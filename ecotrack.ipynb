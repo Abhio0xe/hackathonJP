{
 "cells": [
  {
   "cell_type": "code",
   "execution_count": 9,
   "id": "4e30c2f5-d029-4afa-a151-016fe6e08c7d",
   "metadata": {},
   "outputs": [
    {
     "name": "stdout",
     "output_type": "stream",
     "text": [
      "Requirement already satisfied: paho-mqtt in /Users/abhishekmishra/Library/jupyterlab-desktop/jlab_server/lib/python3.12/site-packages (2.1.0)\n",
      "Note: you may need to restart the kernel to use updated packages.\n"
     ]
    }
   ],
   "source": [
    "pip install paho-mqtt\n"
   ]
  },
  {
   "cell_type": "code",
   "execution_count": 10,
   "id": "be511a50-51d4-475e-9c96-f08d364f520e",
   "metadata": {},
   "outputs": [],
   "source": [
    "# step 1 : data collection using iot devices \n",
    "# tech stack : iot sensor mqtt protocol\n",
    "\n",
    "# sample code for iot device data management :\n",
    "\n",
    "import paho.mqtt.client as mqtt"
   ]
  },
  {
   "cell_type": "code",
   "execution_count": 11,
   "id": "92790a44-bb6a-41bb-9cfc-5657733d1911",
   "metadata": {},
   "outputs": [],
   "source": [
    "# mqtt broker details\n",
    "\n",
    "broker = \"mqtt.eclipse.org\"\n",
    "port = 1883\n",
    "topic= \" lantana/monitering \""
   ]
  },
  {
   "cell_type": "code",
   "execution_count": 12,
   "id": "1c84dae6-af7e-4807-93c7-53f7ac85bf11",
   "metadata": {},
   "outputs": [
    {
     "ename": "AttributeError",
     "evalue": "module 'paho.mqtt.client' has no attribute 'client'",
     "output_type": "error",
     "traceback": [
      "\u001b[0;31m---------------------------------------------------------------------------\u001b[0m",
      "\u001b[0;31mAttributeError\u001b[0m                            Traceback (most recent call last)",
      "Cell \u001b[0;32mIn[12], line 2\u001b[0m\n\u001b[1;32m      1\u001b[0m \u001b[38;5;66;03m# mqtt client setup\u001b[39;00m\n\u001b[0;32m----> 2\u001b[0m client \u001b[38;5;241m=\u001b[39m \u001b[43mmqtt\u001b[49m\u001b[38;5;241;43m.\u001b[39;49m\u001b[43mclient\u001b[49m()\n",
      "\u001b[0;31mAttributeError\u001b[0m: module 'paho.mqtt.client' has no attribute 'client'"
     ]
    }
   ],
   "source": [
    "# mqtt client setup\n",
    "client = mqtt.client()"
   ]
  },
  {
   "cell_type": "code",
   "execution_count": 13,
   "id": "21b06453-0f68-4128-8ae6-ffc881c25950",
   "metadata": {},
   "outputs": [],
   "source": [
    "# data to send(example from iot sensor)\n",
    "\n",
    "iot_data = {\n",
    "    \"temperature\" : 25.4,\n",
    "    \"humidity\" : 70,\n",
    "    \"soil_moisture\" : 35\n",
    "}"
   ]
  },
  {
   "cell_type": "code",
   "execution_count": 14,
   "id": "cba96097-99f3-43c9-a364-ca5ccbee46e6",
   "metadata": {},
   "outputs": [],
   "source": [
    "def on_connect(client,userdata,flags,rc):\n",
    "    print(f\"connected with result code{rc}\")\n",
    "    client.publish(topic,str(iot_data))\n",
    "    client.connect(broker,port,60)\n",
    "    client.loop_start()"
   ]
  },
  {
   "cell_type": "code",
   "execution_count": null,
   "id": "ef7e27eb-e42f-49d0-bf70-47f355e7396b",
   "metadata": {},
   "outputs": [],
   "source": []
  }
 ],
 "metadata": {
  "kernelspec": {
   "display_name": "Python 3 (ipykernel)",
   "language": "python",
   "name": "python3"
  },
  "language_info": {
   "codemirror_mode": {
    "name": "ipython",
    "version": 3
   },
   "file_extension": ".py",
   "mimetype": "text/x-python",
   "name": "python",
   "nbconvert_exporter": "python",
   "pygments_lexer": "ipython3",
   "version": "3.12.5"
  }
 },
 "nbformat": 4,
 "nbformat_minor": 5
}
